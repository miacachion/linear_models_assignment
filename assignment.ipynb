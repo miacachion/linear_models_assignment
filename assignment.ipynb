{
  "cells": [
    {
      "cell_type": "markdown",
      "id": "e0c7b14a-e5aa-4abc-b48b-b8a9d20dacac",
      "metadata": {
        "id": "e0c7b14a-e5aa-4abc-b48b-b8a9d20dacac"
      },
      "source": [
        "# Assignment: Linear Models\n",
        "## Do two questions in total: \"Q1+Q2\" or \"Q1+Q3\"\n",
        "### `! git clone https://github.com/ds3001f25/linear_models_assignment.git`"
      ]
    },
    {
      "cell_type": "markdown",
      "id": "ca1cfba3",
      "metadata": {
        "vscode": {
          "languageId": "plaintext"
        },
        "id": "ca1cfba3"
      },
      "source": [
        "**Q1.** Let's explore multiple linear regression in a two-variable case, to build more intuition about what is happening.\n",
        "\n",
        "Suppose the model is\n",
        "$$\n",
        "\\hat{y}_i = b_0 + b_1 z_{i1} + b_2 z_{i2}\n",
        "$$\n",
        "Assume that $z_{ij}$ is centered or de-meaned, so that $z_{ij} = x_{ij} - m_j$ where $m_j$ is the mean of variable $j$ and $x_{ij}$ is the original value of variable $j$ for observation $i$. Notice that this implies\n",
        "$$\n",
        "\\dfrac{1}{N} \\sum_{i=1}^N z_{ij} = 0\n",
        "$$\n",
        "which will simplify your calculations below substantially!\n",
        "\n",
        "1. Write down the SSE for this model.\n",
        "2. Take partial derivatives with respect to $b_0$, $b_1$, and $b_2$.\n",
        "3. Verify that the average error is zero and $e \\cdot z =0$ at the optimum, just as in the single linear regression case.\n",
        "4. Show that the optimal intercept is $b_0^* = \\bar{y}$. Eliminate $b_0^*$ from the remaining equations, and focus on $b_1$ and $b_2$.\n",
        "5. Write your results as a matrix equation in the form \"$Ab=C$\". These are called the **normal equations**.\n",
        "6. Divide both sides by $N$ and substitute $z_{ij} = x_{ij} - m_j$ back into your normal equations for $x_{ij}$. What is the matrix $A$? What is the vector $C$? Explain the intuition of your discovery."
      ]
    },
    {
      "cell_type": "markdown",
      "source": [
        "1.\n",
        "\n",
        "SSE\n",
        "\n",
        "Residuals: $ e_i = y_i - \\hat{y}_i = y_i - b_0 - b_1 z_{i1} - b_2 z_{i2} $\n",
        "\n",
        "$$\n",
        "SSE(b_0,b_1,b_2)=\\sum_{i=1}^N \\bigl(y_i - b_0 - b_1 z_{i1} - b_2 z_{i2}\\bigr)^2\n",
        "$$\n"
      ],
      "metadata": {
        "id": "ugMOf1FMOobC"
      },
      "id": "ugMOf1FMOobC"
    },
    {
      "cell_type": "markdown",
      "source": [
        "2.\n",
        "\n",
        "Take partial derivatives and set to zero (normal equations)\n",
        "\n",
        "Differentiate SSE with respect to each coefficient and set to $0$:\n",
        "\n",
        "$$\n",
        "\\frac{\\partial SSE}{\\partial b_0} = -2\\sum_{i=1}^N \\bigl(y_i - b_0 - b_1 z_{i1} - b_2 z_{i2}\\bigr)=0\n",
        "$$\n",
        "\n",
        "$$\n",
        "\\frac{\\partial SSE}{\\partial b_1} = -2\\sum_{i=1}^N z_{i1}\\bigl(y_i - b_0 - b_1 z_{i1} - b_2 z_{i2}\\bigr)=0\n",
        "$$\n",
        "\n",
        "$$\n",
        "\\frac{\\partial SSE}{\\partial b_2} = -2\\sum_{i=1}^N z_{i2}\\bigl(y_i - b_0 - b_1 z_{i1} - b_2 z_{i2}\\bigr)=0\n",
        "$$\n",
        "\n",
        "Divide each by $-2$ to simplify\n",
        "\n",
        "$$\n",
        "\\frac{\\partial SSE}{\\partial b_0} = \\sum_{i=1}^N \\bigl(y_i - b_0 - b_1 z_{i1} - b_2 z_{i2}\\bigr)=0\n",
        "$$\n",
        "\n",
        "$$\n",
        "\\frac{\\partial SSE}{\\partial b_1} = \\sum_{i=1}^N z_{i1}\\bigl(y_i - b_0 - b_1 z_{i1} - b_2 z_{i2}\\bigr)=0\n",
        "$$\n",
        "\n",
        "$$\n",
        "\\frac{\\partial SSE}{\\partial b_2} = \\sum_{i=1}^N z_{i2}\\bigl(y_i - b_0 - b_1 z_{i1} - b_2 z_{i2}\\bigr)=0\n",
        "$$\n",
        "\n"
      ],
      "metadata": {
        "id": "GW7a5S4gQRrx"
      },
      "id": "GW7a5S4gQRrx"
    },
    {
      "cell_type": "markdown",
      "source": [
        "3.\n",
        "\n",
        "Use centering to find the intercept\n",
        "\n",
        "From the $b_0$ equation:\n",
        "$$\n",
        "\\sum_{i=1}^N y_i - N b_0 - b_1\\sum z_{i1} - b_2\\sum z_{i2}=0\n",
        "$$\n",
        "Since $ \\sum z_{i1}=\\sum z_{i2}=0 $, thus\n",
        "$$\n",
        "b_0^*=\\bar y=\\frac{1}{N}\\sum_{i=1}^N y_i\n",
        "$$\n",
        "\n",
        "Interpretation: when predictors are mean-zero,  fitted plane goes through $(z_1=0,z_2=0,\\hat y=\\bar y)$; the intercept is the average outcome\n"
      ],
      "metadata": {
        "id": "B214jOgBR1zc"
      },
      "id": "B214jOgBR1zc"
    },
    {
      "cell_type": "markdown",
      "source": [
        "4.\n",
        "\n",
        "Plug $b_0=\\bar y$ back and simplify\n",
        "\n",
        "$$\n",
        "\\sum_{i=1}^N z_{i1}(y_i-\\bar y) = b_1\\sum_{i=1}^N z_{i1}^2 + b_2\\sum_{i=1}^N z_{i1}z_{i2}\n",
        "$$\n",
        "\n",
        "$$\n",
        "\\sum_{i=1}^N z_{i2}(y_i-\\bar y) = b_1\\sum_{i=1}^N z_{i1}z_{i2} + b_2\\sum_{i=1}^N z_{i2}^2\n",
        "$$\n"
      ],
      "metadata": {
        "id": "RpJRudA1UmlU"
      },
      "id": "RpJRudA1UmlU"
    },
    {
      "cell_type": "markdown",
      "source": [
        "5.\n",
        "\n",
        "Matrix (normal equation) form $A b = C$\n",
        "\n",
        "Let\n",
        "$$\n",
        "A=\n",
        "\\begin{bmatrix}\n",
        "\\sum z_{i1}^2 & \\sum z_{i1}z_{i2}\\\\\n",
        "\\sum z_{i1}z_{i2} & \\sum z_{i2}^2\n",
        "\\end{bmatrix},\\quad\n",
        "b=\\begin{bmatrix} b_1\\\\ b_2\\end{bmatrix},\\quad\n",
        "C=\n",
        "\\begin{bmatrix}\n",
        "\\sum z_{i1}(y_i-\\bar y)\\\\\n",
        "\\sum z_{i2}(y_i-\\bar y)\n",
        "\\end{bmatrix}.\n",
        "$$\n",
        "\n",
        "So $A b = C$.\n",
        "\n",
        "Interpretation: $A$ is the unnormalized covariance matrix of the predictors; $C$ holds their unnormalized covariances with $y$\n"
      ],
      "metadata": {
        "id": "yrNo666Wi0Pi"
      },
      "id": "yrNo666Wi0Pi"
    },
    {
      "cell_type": "markdown",
      "source": [
        "6.\n",
        "\n",
        "Divide by \\(N\\): covariance form\n",
        "\n",
        "$$\n",
        "\\begin{bmatrix}\n",
        "\\mathrm{Var}(z_1) & \\mathrm{Cov}(z_1,z_2)\\\\\n",
        "\\mathrm{Cov}(z_1,z_2) & \\mathrm{Var}(z_2)\n",
        "\\end{bmatrix}\n",
        "\\begin{bmatrix}\n",
        "b_1\\\\\n",
        "b_2\n",
        "\\end{bmatrix}\n",
        "=\n",
        "\\begin{bmatrix}\n",
        "\\mathrm{Cov}(z_1,y)\\\\\n",
        "\\mathrm{Cov}(z_2,y)\n",
        "\\end{bmatrix}.\n",
        "$$\n",
        "\n",
        "Thus $ b = A^{-1} C $ in covariance form.\n",
        "\n",
        "Intuition: each slope represents how the predictor co-moves with \\(y\\) after accounting for its overlap with the other predictor\n"
      ],
      "metadata": {
        "id": "CyCN9T14kT8D"
      },
      "id": "CyCN9T14kT8D"
    },
    {
      "cell_type": "markdown",
      "id": "95f22300-0180-4ed2-be8f-ed56cf4cd36b",
      "metadata": {
        "id": "95f22300-0180-4ed2-be8f-ed56cf4cd36b"
      },
      "source": [
        "**Q2.** This question is a case study for linear models. The data are about car prices. In particular, they include:\n",
        "\n",
        "  - `Price`, `Color`, `Seating_Capacity`\n",
        "  - `Body_Type`: crossover, hatchback, muv, sedan, suv\n",
        "  - `Make`, `Make_Year`: The brand of car and year produced\n",
        "  - `Mileage_Run`: The number of miles on the odometer\n",
        "  - `Fuel_Type`: Diesel or gasoline/petrol\n",
        "  - `Transmission`, `Transmission_Type`:  speeds and automatic/manual\n",
        "\n",
        "  1. Load `cars_hw.csv`. These data were really dirty, and I've already cleaned them a significant amount in terms of missing values and other issues, but some issues remain (e.g. outliers, badly scaled variables that require a log or arcsinh transformation). Clean the data however you think is most appropriate.\n",
        "  2. Summarize the `Price` variable and create a kernel density plot. Use `.groupby()` and `.describe()` to summarize prices by brand (`Make`). Make a grouped kernel density plot by `Make`. Which car brands are the most expensive? What do prices look like in general?\n",
        "  3. Split the data into an 80% training set and a 20% testing set.\n",
        "  4. Make a model where you regress price on the numeric variables alone; what is the $R^2$ and `RMSE` on the training set and test set? Make a second model where, for the categorical variables, you regress price on a model comprised of one-hot encoded regressors/features alone (you can use `pd.get_dummies()`; be careful of the dummy variable trap); what is the $R^2$ and `RMSE` on the test set? Which model performs better on the test set? Make a third model that combines all the regressors from the previous two; what is the $R^2$ and `RMSE` on the test set? Does the joint model perform better or worse, and by home much?\n",
        "  5. Use the `PolynomialFeatures` function from `sklearn` to expand the set of numerical variables you're using in the regression. As you increase the degree of the expansion, how do the $R^2$ and `RMSE` change? At what point does $R^2$ go negative on the test set? For your best model with expanded features, what is the $R^2$ and `RMSE`? How does it compare to your best model from part 4?\n",
        "  6. For your best model so far, determine the predicted values for the test data and plot them against the true values. Do the predicted values and true values roughly line up along the diagonal, or not? Compute the residuals/errors for the test data and create a kernel density plot. Do the residuals look roughly bell-shaped around zero? Evaluate the strengths and weaknesses of your model."
      ]
    },
    {
      "cell_type": "code",
      "source": [],
      "metadata": {
        "id": "bSX5p83xfYJx"
      },
      "id": "bSX5p83xfYJx",
      "execution_count": null,
      "outputs": []
    },
    {
      "cell_type": "markdown",
      "id": "aedcd486",
      "metadata": {
        "id": "aedcd486"
      },
      "source": [
        "**Q3.** This question refers to the `heart_hw.csv` data. It contains three variables:\n",
        "\n",
        "  - `y`: Whether the individual survived for three years, coded 0 for death and 1 for survival\n",
        "  - `age`: Patient's age\n",
        "  - `transplant`: `control` for not receiving a transplant and `treatment` for receiving a transplant\n",
        "\n",
        "Since a heart transplant is a dangerous operation and even people who successfully get heart transplants might suffer later complications, we want to look at whether a group of transplant recipients tends to survive longer than a comparison group who does not get the procedure.\n",
        "\n",
        "1. Compute (a) the proportion of people who survive in the control group who do not receive a transplant, and (b) the difference between the proportion of people who survive in the treatment group and the proportion of people who survive in the control group. In a randomized controlled trial, this is called the **average treatment effect**.\n",
        "2. Regress `y` on `transplant` using a linear model with a constant. How does the constant/intercept of the regression and the coefficient on transplant compare to your answers from part 1? Explain the relationship clearly.\n",
        "3. We'd like to include `age` in the regression, since it's reasonable to expect that older patients are less likely to survive an extensive surgery like a heart transplant. Regress `y` on a constant, transplant, and age. How does the intercept change?\n",
        "4. Build a more flexible model that allows for non-linear age effects and interactions between age and treatment. Use a train-test split to validate your model. Estimate your best model, predict the survival probability by age, and plot your results conditional on receiving a transplant and not. Describe what you see.\n",
        "5. Imagine someone suggests using these kinds of models to select who receives organ transplants; perhaps the CDC or NIH starts using a scoring algorithm to decide who is contacted about a potential organ. What are your concerns about how it is built and how it is deployed?"
      ]
    },
    {
      "cell_type": "code",
      "source": [
        "import numpy as np\n",
        "import matplotlib.pyplot as plt\n",
        "import pandas as pd\n",
        "import seaborn as sns\n",
        "from sklearn.model_selection import train_test_split"
      ],
      "metadata": {
        "id": "gsgZAjbfdebU"
      },
      "id": "gsgZAjbfdebU",
      "execution_count": 21,
      "outputs": []
    },
    {
      "cell_type": "code",
      "execution_count": 15,
      "id": "d9b3a79a",
      "metadata": {
        "colab": {
          "base_uri": "https://localhost:8080/",
          "height": 206
        },
        "id": "d9b3a79a",
        "outputId": "f370a1f3-a387-4c0d-a143-b30785800a86"
      },
      "outputs": [
        {
          "output_type": "execute_result",
          "data": {
            "text/plain": [
              "   Unnamed: 0  age transplant  y\n",
              "0           1   53    control  0\n",
              "1           2   43    control  0\n",
              "2           3   52    control  0\n",
              "3           4   52    control  0\n",
              "4           5   54    control  0"
            ],
            "text/html": [
              "\n",
              "  <div id=\"df-ab570846-18e8-426d-acee-4c43ec5ec9eb\" class=\"colab-df-container\">\n",
              "    <div>\n",
              "<style scoped>\n",
              "    .dataframe tbody tr th:only-of-type {\n",
              "        vertical-align: middle;\n",
              "    }\n",
              "\n",
              "    .dataframe tbody tr th {\n",
              "        vertical-align: top;\n",
              "    }\n",
              "\n",
              "    .dataframe thead th {\n",
              "        text-align: right;\n",
              "    }\n",
              "</style>\n",
              "<table border=\"1\" class=\"dataframe\">\n",
              "  <thead>\n",
              "    <tr style=\"text-align: right;\">\n",
              "      <th></th>\n",
              "      <th>Unnamed: 0</th>\n",
              "      <th>age</th>\n",
              "      <th>transplant</th>\n",
              "      <th>y</th>\n",
              "    </tr>\n",
              "  </thead>\n",
              "  <tbody>\n",
              "    <tr>\n",
              "      <th>0</th>\n",
              "      <td>1</td>\n",
              "      <td>53</td>\n",
              "      <td>control</td>\n",
              "      <td>0</td>\n",
              "    </tr>\n",
              "    <tr>\n",
              "      <th>1</th>\n",
              "      <td>2</td>\n",
              "      <td>43</td>\n",
              "      <td>control</td>\n",
              "      <td>0</td>\n",
              "    </tr>\n",
              "    <tr>\n",
              "      <th>2</th>\n",
              "      <td>3</td>\n",
              "      <td>52</td>\n",
              "      <td>control</td>\n",
              "      <td>0</td>\n",
              "    </tr>\n",
              "    <tr>\n",
              "      <th>3</th>\n",
              "      <td>4</td>\n",
              "      <td>52</td>\n",
              "      <td>control</td>\n",
              "      <td>0</td>\n",
              "    </tr>\n",
              "    <tr>\n",
              "      <th>4</th>\n",
              "      <td>5</td>\n",
              "      <td>54</td>\n",
              "      <td>control</td>\n",
              "      <td>0</td>\n",
              "    </tr>\n",
              "  </tbody>\n",
              "</table>\n",
              "</div>\n",
              "    <div class=\"colab-df-buttons\">\n",
              "\n",
              "  <div class=\"colab-df-container\">\n",
              "    <button class=\"colab-df-convert\" onclick=\"convertToInteractive('df-ab570846-18e8-426d-acee-4c43ec5ec9eb')\"\n",
              "            title=\"Convert this dataframe to an interactive table.\"\n",
              "            style=\"display:none;\">\n",
              "\n",
              "  <svg xmlns=\"http://www.w3.org/2000/svg\" height=\"24px\" viewBox=\"0 -960 960 960\">\n",
              "    <path d=\"M120-120v-720h720v720H120Zm60-500h600v-160H180v160Zm220 220h160v-160H400v160Zm0 220h160v-160H400v160ZM180-400h160v-160H180v160Zm440 0h160v-160H620v160ZM180-180h160v-160H180v160Zm440 0h160v-160H620v160Z\"/>\n",
              "  </svg>\n",
              "    </button>\n",
              "\n",
              "  <style>\n",
              "    .colab-df-container {\n",
              "      display:flex;\n",
              "      gap: 12px;\n",
              "    }\n",
              "\n",
              "    .colab-df-convert {\n",
              "      background-color: #E8F0FE;\n",
              "      border: none;\n",
              "      border-radius: 50%;\n",
              "      cursor: pointer;\n",
              "      display: none;\n",
              "      fill: #1967D2;\n",
              "      height: 32px;\n",
              "      padding: 0 0 0 0;\n",
              "      width: 32px;\n",
              "    }\n",
              "\n",
              "    .colab-df-convert:hover {\n",
              "      background-color: #E2EBFA;\n",
              "      box-shadow: 0px 1px 2px rgba(60, 64, 67, 0.3), 0px 1px 3px 1px rgba(60, 64, 67, 0.15);\n",
              "      fill: #174EA6;\n",
              "    }\n",
              "\n",
              "    .colab-df-buttons div {\n",
              "      margin-bottom: 4px;\n",
              "    }\n",
              "\n",
              "    [theme=dark] .colab-df-convert {\n",
              "      background-color: #3B4455;\n",
              "      fill: #D2E3FC;\n",
              "    }\n",
              "\n",
              "    [theme=dark] .colab-df-convert:hover {\n",
              "      background-color: #434B5C;\n",
              "      box-shadow: 0px 1px 3px 1px rgba(0, 0, 0, 0.15);\n",
              "      filter: drop-shadow(0px 1px 2px rgba(0, 0, 0, 0.3));\n",
              "      fill: #FFFFFF;\n",
              "    }\n",
              "  </style>\n",
              "\n",
              "    <script>\n",
              "      const buttonEl =\n",
              "        document.querySelector('#df-ab570846-18e8-426d-acee-4c43ec5ec9eb button.colab-df-convert');\n",
              "      buttonEl.style.display =\n",
              "        google.colab.kernel.accessAllowed ? 'block' : 'none';\n",
              "\n",
              "      async function convertToInteractive(key) {\n",
              "        const element = document.querySelector('#df-ab570846-18e8-426d-acee-4c43ec5ec9eb');\n",
              "        const dataTable =\n",
              "          await google.colab.kernel.invokeFunction('convertToInteractive',\n",
              "                                                    [key], {});\n",
              "        if (!dataTable) return;\n",
              "\n",
              "        const docLinkHtml = 'Like what you see? Visit the ' +\n",
              "          '<a target=\"_blank\" href=https://colab.research.google.com/notebooks/data_table.ipynb>data table notebook</a>'\n",
              "          + ' to learn more about interactive tables.';\n",
              "        element.innerHTML = '';\n",
              "        dataTable['output_type'] = 'display_data';\n",
              "        await google.colab.output.renderOutput(dataTable, element);\n",
              "        const docLink = document.createElement('div');\n",
              "        docLink.innerHTML = docLinkHtml;\n",
              "        element.appendChild(docLink);\n",
              "      }\n",
              "    </script>\n",
              "  </div>\n",
              "\n",
              "\n",
              "    <div id=\"df-b1bbb375-3aa0-4b6a-a40c-21cb75d5bcbd\">\n",
              "      <button class=\"colab-df-quickchart\" onclick=\"quickchart('df-b1bbb375-3aa0-4b6a-a40c-21cb75d5bcbd')\"\n",
              "                title=\"Suggest charts\"\n",
              "                style=\"display:none;\">\n",
              "\n",
              "<svg xmlns=\"http://www.w3.org/2000/svg\" height=\"24px\"viewBox=\"0 0 24 24\"\n",
              "     width=\"24px\">\n",
              "    <g>\n",
              "        <path d=\"M19 3H5c-1.1 0-2 .9-2 2v14c0 1.1.9 2 2 2h14c1.1 0 2-.9 2-2V5c0-1.1-.9-2-2-2zM9 17H7v-7h2v7zm4 0h-2V7h2v10zm4 0h-2v-4h2v4z\"/>\n",
              "    </g>\n",
              "</svg>\n",
              "      </button>\n",
              "\n",
              "<style>\n",
              "  .colab-df-quickchart {\n",
              "      --bg-color: #E8F0FE;\n",
              "      --fill-color: #1967D2;\n",
              "      --hover-bg-color: #E2EBFA;\n",
              "      --hover-fill-color: #174EA6;\n",
              "      --disabled-fill-color: #AAA;\n",
              "      --disabled-bg-color: #DDD;\n",
              "  }\n",
              "\n",
              "  [theme=dark] .colab-df-quickchart {\n",
              "      --bg-color: #3B4455;\n",
              "      --fill-color: #D2E3FC;\n",
              "      --hover-bg-color: #434B5C;\n",
              "      --hover-fill-color: #FFFFFF;\n",
              "      --disabled-bg-color: #3B4455;\n",
              "      --disabled-fill-color: #666;\n",
              "  }\n",
              "\n",
              "  .colab-df-quickchart {\n",
              "    background-color: var(--bg-color);\n",
              "    border: none;\n",
              "    border-radius: 50%;\n",
              "    cursor: pointer;\n",
              "    display: none;\n",
              "    fill: var(--fill-color);\n",
              "    height: 32px;\n",
              "    padding: 0;\n",
              "    width: 32px;\n",
              "  }\n",
              "\n",
              "  .colab-df-quickchart:hover {\n",
              "    background-color: var(--hover-bg-color);\n",
              "    box-shadow: 0 1px 2px rgba(60, 64, 67, 0.3), 0 1px 3px 1px rgba(60, 64, 67, 0.15);\n",
              "    fill: var(--button-hover-fill-color);\n",
              "  }\n",
              "\n",
              "  .colab-df-quickchart-complete:disabled,\n",
              "  .colab-df-quickchart-complete:disabled:hover {\n",
              "    background-color: var(--disabled-bg-color);\n",
              "    fill: var(--disabled-fill-color);\n",
              "    box-shadow: none;\n",
              "  }\n",
              "\n",
              "  .colab-df-spinner {\n",
              "    border: 2px solid var(--fill-color);\n",
              "    border-color: transparent;\n",
              "    border-bottom-color: var(--fill-color);\n",
              "    animation:\n",
              "      spin 1s steps(1) infinite;\n",
              "  }\n",
              "\n",
              "  @keyframes spin {\n",
              "    0% {\n",
              "      border-color: transparent;\n",
              "      border-bottom-color: var(--fill-color);\n",
              "      border-left-color: var(--fill-color);\n",
              "    }\n",
              "    20% {\n",
              "      border-color: transparent;\n",
              "      border-left-color: var(--fill-color);\n",
              "      border-top-color: var(--fill-color);\n",
              "    }\n",
              "    30% {\n",
              "      border-color: transparent;\n",
              "      border-left-color: var(--fill-color);\n",
              "      border-top-color: var(--fill-color);\n",
              "      border-right-color: var(--fill-color);\n",
              "    }\n",
              "    40% {\n",
              "      border-color: transparent;\n",
              "      border-right-color: var(--fill-color);\n",
              "      border-top-color: var(--fill-color);\n",
              "    }\n",
              "    60% {\n",
              "      border-color: transparent;\n",
              "      border-right-color: var(--fill-color);\n",
              "    }\n",
              "    80% {\n",
              "      border-color: transparent;\n",
              "      border-right-color: var(--fill-color);\n",
              "      border-bottom-color: var(--fill-color);\n",
              "    }\n",
              "    90% {\n",
              "      border-color: transparent;\n",
              "      border-bottom-color: var(--fill-color);\n",
              "    }\n",
              "  }\n",
              "</style>\n",
              "\n",
              "      <script>\n",
              "        async function quickchart(key) {\n",
              "          const quickchartButtonEl =\n",
              "            document.querySelector('#' + key + ' button');\n",
              "          quickchartButtonEl.disabled = true;  // To prevent multiple clicks.\n",
              "          quickchartButtonEl.classList.add('colab-df-spinner');\n",
              "          try {\n",
              "            const charts = await google.colab.kernel.invokeFunction(\n",
              "                'suggestCharts', [key], {});\n",
              "          } catch (error) {\n",
              "            console.error('Error during call to suggestCharts:', error);\n",
              "          }\n",
              "          quickchartButtonEl.classList.remove('colab-df-spinner');\n",
              "          quickchartButtonEl.classList.add('colab-df-quickchart-complete');\n",
              "        }\n",
              "        (() => {\n",
              "          let quickchartButtonEl =\n",
              "            document.querySelector('#df-b1bbb375-3aa0-4b6a-a40c-21cb75d5bcbd button');\n",
              "          quickchartButtonEl.style.display =\n",
              "            google.colab.kernel.accessAllowed ? 'block' : 'none';\n",
              "        })();\n",
              "      </script>\n",
              "    </div>\n",
              "\n",
              "    </div>\n",
              "  </div>\n"
            ],
            "application/vnd.google.colaboratory.intrinsic+json": {
              "type": "dataframe",
              "variable_name": "df",
              "summary": "{\n  \"name\": \"df\",\n  \"rows\": 103,\n  \"fields\": [\n    {\n      \"column\": \"Unnamed: 0\",\n      \"properties\": {\n        \"dtype\": \"number\",\n        \"std\": 29,\n        \"min\": 1,\n        \"max\": 103,\n        \"num_unique_values\": 103,\n        \"samples\": [\n          31,\n          68,\n          63\n        ],\n        \"semantic_type\": \"\",\n        \"description\": \"\"\n      }\n    },\n    {\n      \"column\": \"age\",\n      \"properties\": {\n        \"dtype\": \"number\",\n        \"std\": 9,\n        \"min\": 8,\n        \"max\": 64,\n        \"num_unique_values\": 35,\n        \"samples\": [\n          23,\n          49,\n          28\n        ],\n        \"semantic_type\": \"\",\n        \"description\": \"\"\n      }\n    },\n    {\n      \"column\": \"transplant\",\n      \"properties\": {\n        \"dtype\": \"category\",\n        \"num_unique_values\": 2,\n        \"samples\": [\n          \"treatment\",\n          \"control\"\n        ],\n        \"semantic_type\": \"\",\n        \"description\": \"\"\n      }\n    },\n    {\n      \"column\": \"y\",\n      \"properties\": {\n        \"dtype\": \"number\",\n        \"std\": 0,\n        \"min\": 0,\n        \"max\": 1,\n        \"num_unique_values\": 2,\n        \"samples\": [\n          1,\n          0\n        ],\n        \"semantic_type\": \"\",\n        \"description\": \"\"\n      }\n    }\n  ]\n}"
            }
          },
          "metadata": {},
          "execution_count": 15
        }
      ],
      "source": [
        "df = pd.read_csv('./linear_models_assignment/data/heart_hw.csv')\n",
        "df.head()"
      ]
    },
    {
      "cell_type": "code",
      "source": [
        "#1\n",
        "\n",
        "p_control = df.loc[df['transplant'] == 'control', 'y'].mean()\n",
        "p_treat = df.loc[df['transplant'] == 'treatment', 'y'].mean()\n",
        "ate = p_treat - p_control\n",
        "\n",
        "print(\"Control:\", round(p_control, 3))\n",
        "print(\"Treatment:\", round(p_treat, 3))\n",
        "print(\"Average Treatment Effect:\", round(ate, 3))"
      ],
      "metadata": {
        "id": "QBNGPv_xOKUF",
        "outputId": "6b56dab7-01ab-49f6-ebc3-170b3642ae32",
        "colab": {
          "base_uri": "https://localhost:8080/"
        }
      },
      "id": "QBNGPv_xOKUF",
      "execution_count": 17,
      "outputs": [
        {
          "output_type": "stream",
          "name": "stdout",
          "text": [
            "Control: 0.118\n",
            "Treatment: 0.348\n",
            "Average Treatment Effect: 0.23\n"
          ]
        }
      ]
    },
    {
      "cell_type": "code",
      "source": [
        "#2\n",
        "\n",
        "x = np.where(df['transplant'] == 'treatment', 1, 0)\n",
        "y = df['y']\n",
        "\n",
        "def slr(x, y):\n",
        "    \"\"\"Single linear regression function\"\"\"\n",
        "    x_bar = np.mean(x)\n",
        "    y_bar = np.mean(y)\n",
        "    b1 = np.inner(x - x_bar, y - y_bar) / np.inner(x - x_bar, x - x_bar)\n",
        "    b0 = y_bar - b1 * x_bar\n",
        "    return {'b0': b0, 'b1': b1}\n",
        "\n",
        "reg = slr(x, y)\n",
        "\n",
        "print(\"Intercept\", round(reg['b0'], 3))\n",
        "print(\"Coefficient on transplant (b1):\", round(reg['b1'], 3))\n",
        "\n",
        "# Intercept 0.118: mean survival for control group\n",
        "# Coefficient 0.230: difference in survival between treatment and control\n",
        "# This matches the average treatment effect from part 1\n",
        "# Regression vals give the same results as the proportions calculated"
      ],
      "metadata": {
        "id": "1Jxfp5koS4JT",
        "outputId": "cc597940-9b82-4011-e7af-3b3f9e697823",
        "colab": {
          "base_uri": "https://localhost:8080/"
        }
      },
      "id": "1Jxfp5koS4JT",
      "execution_count": 18,
      "outputs": [
        {
          "output_type": "stream",
          "name": "stdout",
          "text": [
            "Intercept 0.118\n",
            "Coefficient on transplant (b1): 0.23\n"
          ]
        }
      ]
    },
    {
      "cell_type": "code",
      "source": [
        "#3\n",
        "\n",
        "df['transplant_num'] = np.where(df['transplant'] == 'treatment', 1, 0)\n",
        "\n",
        "X = np.column_stack((np.ones(len(df)), df['transplant_num'], df['age']))\n",
        "y = df['y'].values\n",
        "\n",
        "beta = np.linalg.inv(X.T @ X) @ (X.T @ y)\n",
        "b0, b1, b2 = beta\n",
        "\n",
        "print(\"Intercept:\", round(b0, 3))\n",
        "print(\"Coefficient on transplant:\", round(b1, 3))\n",
        "print(\"Coefficient on age:\", round(b2, 3))\n",
        "\n",
        "# Intercept 0.702: predicted survival for control patient with age 0\n",
        "# No patient is actually zero, just part of formula\n",
        "# Coefficient on transplant 0.265: difference in survival between treatment and control, controlling for age\n",
        "# Coefficient on age -0.014: survival decreases as age increases\n",
        "# Including age changes the intercept and adjusts the transplant effect, showing how age impacts survival"
      ],
      "metadata": {
        "id": "eJ7W9YDiX9Mh",
        "outputId": "4fccc11f-c42a-4c59-ff3e-a42e8ee97a4a",
        "colab": {
          "base_uri": "https://localhost:8080/"
        }
      },
      "id": "eJ7W9YDiX9Mh",
      "execution_count": 20,
      "outputs": [
        {
          "output_type": "stream",
          "name": "stdout",
          "text": [
            "Intercept: 0.702\n",
            "Coefficient on transplant: 0.265\n",
            "Coefficient on age: -0.014\n"
          ]
        }
      ]
    },
    {
      "cell_type": "code",
      "source": [
        "#4\n",
        "\n",
        "df['transplant_num'] = np.where(df['transplant'] == 'treatment', 1, 0)\n",
        "df['age_sq'] = df['age']**2\n",
        "df['age_transplant'] = df['age'] * df['transplant_num']\n",
        "\n",
        "X = df[['transplant_num', 'age', 'age_sq', 'age_transplant']]\n",
        "y = df['y']\n",
        "\n",
        "X_train, X_test, y_train, y_test = train_test_split(X, y, test_size=0.2, random_state=42)"
      ],
      "metadata": {
        "id": "WjwrithIdEZ0"
      },
      "id": "WjwrithIdEZ0",
      "execution_count": 22,
      "outputs": []
    },
    {
      "cell_type": "code",
      "source": [
        "X_train_const = np.column_stack((np.ones(len(X_train)), X_train))\n",
        "X_test_const = np.column_stack((np.ones(len(X_test)), X_test))\n",
        "\n",
        "beta = np.linalg.inv(X_train_const.T @ X_train_const) @ (X_train_const.T @ y_train.values)\n",
        "\n",
        "intercept, b_transplant, b_age, b_age_sq, b_interact = beta\n",
        "print(\"Intercept:\", round(intercept,3))\n",
        "print(\"Coef transplant:\", round(b_transplant,3))\n",
        "print(\"Coef age:\", round(b_age,3))\n",
        "print(\"Coef age^2:\", round(b_age_sq,3))\n",
        "print(\"Coef age*transplant:\", round(b_interact,3))"
      ],
      "metadata": {
        "id": "yQBj9dH9d5i_",
        "outputId": "b5536551-20d7-457c-a589-7fb038d62ccc",
        "colab": {
          "base_uri": "https://localhost:8080/"
        }
      },
      "id": "yQBj9dH9d5i_",
      "execution_count": 23,
      "outputs": [
        {
          "output_type": "stream",
          "name": "stdout",
          "text": [
            "Intercept: 0.081\n",
            "Coef transplant: 0.739\n",
            "Coef age: 0.012\n",
            "Coef age^2: -0.0\n",
            "Coef age*transplant: -0.012\n"
          ]
        }
      ]
    },
    {
      "cell_type": "code",
      "source": [
        "ages = np.arange(df['age'].min(), df['age'].max()+1)\n",
        "\n",
        "y_pred_control = (intercept\n",
        "                  + b_transplant*0\n",
        "                  + b_age*ages\n",
        "                  + b_age_sq*ages**2\n",
        "                  + b_interact*0*ages)\n",
        "\n",
        "y_pred_treat = (intercept\n",
        "                + b_transplant*1\n",
        "                + b_age*ages\n",
        "                + b_age_sq*ages**2\n",
        "                + b_interact*1*ages)"
      ],
      "metadata": {
        "id": "rAUpJvpzenLQ"
      },
      "id": "rAUpJvpzenLQ",
      "execution_count": 24,
      "outputs": []
    },
    {
      "cell_type": "code",
      "source": [
        "plt.plot(ages, y_pred_control, label='Control', color='blue')\n",
        "plt.plot(ages, y_pred_treat, label='Treatment', color='red')\n",
        "plt.xlabel(\"Age\")\n",
        "plt.ylabel(\"Predicted Survival Prob\")\n",
        "plt.legend()\n",
        "\n",
        "# Highest survival rates overall: youngest patients that received treatment\n",
        "# Receiving treatment creates relatively linear, negative relationship\n",
        "# Control group has less variation\n",
        "# For older patients, the treatment effect appears to diminish compared to the control group"
      ],
      "metadata": {
        "id": "C4K-Uc4le0xf",
        "outputId": "2852b343-4378-4e90-997c-21fa4d0c26a2",
        "colab": {
          "base_uri": "https://localhost:8080/",
          "height": 467
        }
      },
      "id": "C4K-Uc4le0xf",
      "execution_count": 26,
      "outputs": [
        {
          "output_type": "execute_result",
          "data": {
            "text/plain": [
              "<matplotlib.legend.Legend at 0x784f9bd0c560>"
            ]
          },
          "metadata": {},
          "execution_count": 26
        },
        {
          "output_type": "display_data",
          "data": {
            "text/plain": [
              "<Figure size 640x480 with 1 Axes>"
            ],
            "image/png": "[encoded data removed]"
          },
          "metadata": {}
        }
      ]
    },
    {
      "cell_type": "code",
      "source": [
        "#5\n",
        "\n",
        "# Using models for organ allocation raises ethical concerns\n",
        "# Risk of bias: data may reflect inequalities in healthcare access\n",
        "# May unfairly prioritize certain age or demographic groups\n",
        "# Important to ensure transparency in decisions affecting people's health\n",
        "# Models cannot correctly predict every possible outcome"
      ],
      "metadata": {
        "id": "9LmqJd2lhs5Q"
      },
      "id": "9LmqJd2lhs5Q",
      "execution_count": null,
      "outputs": []
    },
    {
      "cell_type": "markdown",
      "source": [
        "Academic Integrity: AI used for troubleshooting purposes"
      ],
      "metadata": {
        "id": "QpMTBt-rhusQ"
      },
      "id": "QpMTBt-rhusQ"
    }
  ],
  "metadata": {
    "colab": {
      "provenance": []
    },
    "kernelspec": {
      "display_name": "Python 3 (ipykernel)",
      "language": "python",
      "name": "python3"
    },
    "language_info": {
      "codemirror_mode": {
        "name": "ipython",
        "version": 3
      },
      "file_extension": ".py",
      "mimetype": "text/x-python",
      "name": "python",
      "nbconvert_exporter": "python",
      "pygments_lexer": "ipython3",
      "version": "3.10.18"
    }
  },
  "nbformat": 4,
  "nbformat_minor": 5
}